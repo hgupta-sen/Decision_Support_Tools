{
 "cells": [
  {
   "cell_type": "markdown",
   "metadata": {},
   "source": [
    "                                      ISE 5123: Software Tools-Dec Support"
   ]
  },
  {
   "cell_type": "markdown",
   "metadata": {},
   "source": [
    "                                    Final Examination Answer Script - 2021 \n",
    "                                         Author: Himadri Sen Gupta "
   ]
  },
  {
   "cell_type": "markdown",
   "metadata": {},
   "source": [
    "Solution | Question - 1"
   ]
  },
  {
   "cell_type": "code",
   "execution_count": 6,
   "metadata": {},
   "outputs": [
    {
     "name": "stdout",
     "output_type": "stream",
     "text": [
      "Enter the number of members in the list: 4\n",
      "Enter the numbers for the list: 2\n",
      "Enter the numbers for the list: 2\n",
      "Enter the numbers for the list: 1\n",
      "Enter the numbers for the list: 1\n",
      "[2, 2, 1, 1]\n",
      "TRUE\n"
     ]
    }
   ],
   "source": [
    "#Taking the number of element of the list\n",
    "n = int(input(\"Enter the number of members in the list: \"))\n",
    "\n",
    "#Creating a blank list for keeping all the elements \n",
    "new_list = []\n",
    "\n",
    "#Taking the input for the list \n",
    "if n > 0:\n",
    "    for i in range(n): \n",
    "        x = int(input(\"Enter the numbers for the list: \"))\n",
    "        new_list.append(x)\n",
    "else: \n",
    "    new_list = []\n",
    "\n",
    "#Showing the list \n",
    "print(new_list)\n",
    "\n",
    "#Creating the function sorted \n",
    "def sorted (list_for_sort):\n",
    "    check = 0      #This variable is taken for identifying the list\n",
    "    i = 1          #This variable will ensure checking all the elements of the list till the last one \n",
    "    #i = 1 ensure that it will start checking the second element of the list with the first one. \n",
    "    while i < len(list_for_sort):\n",
    "        if list_for_sort[i] > list_for_sort[i - 1]:\n",
    "            check = 1\n",
    "        i += 1   #i is increasing to check the next element \n",
    "    #Printing the results\n",
    "    if check == 0:   #If the list is in decending order the check value should be 0 \n",
    "        print (\"TRUE\")          \n",
    "    else :           #If the list is not in decending order the check value should be 1 in while loop  \n",
    "        print (\"FALSE\")               \n",
    "\n",
    "#Implementation of the sorted function- \n",
    "sorted (new_list)    "
   ]
  },
  {
   "cell_type": "markdown",
   "metadata": {},
   "source": [
    "Solution | Question - 2"
   ]
  },
  {
   "cell_type": "code",
   "execution_count": 116,
   "metadata": {},
   "outputs": [
    {
     "name": "stdout",
     "output_type": "stream",
     "text": [
      "-----------------------------------------\n",
      "Optimal value: $ 152300.0\n",
      "-----------------------------------------\n",
      "+--------+-----------------------+----------------------+----------------------+\n",
      "| Months | Regular Production    | Overtime Production  | Amount Kept in       |\n",
      "|        | Amount (units)        | Amount (units)       | Inventory (units)    |\n",
      "+--------+-----------------------+----------------------+----------------------+\n",
      "| 1      | 2000                  | 300                  | 1100                 |\n",
      "+--------+-----------------------+----------------------+----------------------+\n",
      "| 2      | 2000                  | 600                  | 1600                 |\n",
      "+--------+-----------------------+----------------------+----------------------+\n",
      "| 3      | 2000                  | 600                  | 1800                 |\n",
      "+--------+-----------------------+----------------------+----------------------+\n",
      "| 4      | 2000                  | 600                  | 1400                 |\n",
      "+--------+-----------------------+----------------------+----------------------+\n",
      "| 5      | 2000                  | 600                  | 0                    |\n",
      "+--------+-----------------------+----------------------+----------------------+\n"
     ]
    }
   ],
   "source": [
    "#Importing Gurobi for solving the model \n",
    "from gurobipy import *\n",
    "from texttable import Texttable\n",
    "\n",
    "#Creating the list of nodes i \n",
    "months = ['1','2','3','4','5']   #We are working with 5 Months \n",
    "\n",
    "production_cost = 10 \n",
    "\n",
    "over_time_cost = 15\n",
    "\n",
    "inventory_cost = 2\n",
    "\n",
    "\n",
    "#Mathemaical Model directly taken from lecture note--\n",
    "\n",
    "\n",
    "# Create the model as an object\n",
    "model = Model (\"Problem - 2\")\n",
    "\n",
    "# Mute the Gurobi\n",
    "model.setParam ('OutputFlag', False)\n",
    "\n",
    "\n",
    "# Decision Variables----\n",
    "Normal_Production = model.addVars(months, vtype=GRB.INTEGER, lb=0,ub=GRB.INFINITY, name=\"x\") \n",
    "\n",
    "OverTime_Production = model.addVars(months, vtype=GRB.INTEGER, lb=0,ub=GRB.INFINITY, name=\"y\")\n",
    "\n",
    "Invertory_Amount = model.addVars(months, vtype=GRB.INTEGER, lb=0,ub=GRB.INFINITY, name=\"w\")\n",
    "\n",
    "\n",
    "\n",
    "#Production Capacity Constraint-----      \n",
    "for i in months: \n",
    "    model.addConstr(Normal_Production[i] <= 2000) \n",
    "\n",
    "#Over Time Production Capacity Constraint----- \n",
    "for i in months:\n",
    "    model.addConstr(OverTime_Production[i] <= 600)\n",
    "\n",
    "#Contracted Sales in Month - 1 \n",
    "model.addConstr(Normal_Production['1']  + OverTime_Production['1'] - Invertory_Amount['1'] == 1200)\n",
    "\n",
    "#Contracted Sales in Month - 2\n",
    "model.addConstr(Normal_Production['2']  + OverTime_Production['2'] + Invertory_Amount['1'] - Invertory_Amount['2'] == 2100)\n",
    "\n",
    "#Contracted Sales in Month - 3\n",
    "model.addConstr(Normal_Production['3']  + OverTime_Production['3'] + Invertory_Amount['2'] - Invertory_Amount['3'] == 2400)\n",
    "\n",
    "#Contracted Sales in Month - 4\n",
    "model.addConstr(Normal_Production['4']  + OverTime_Production['4'] + Invertory_Amount['3'] - Invertory_Amount['4'] == 3000)\n",
    "\n",
    "#Contracted Sales in Month - 5\n",
    "model.addConstr(Normal_Production['5']  + OverTime_Production['5'] + Invertory_Amount['4'] == 4000)\n",
    "\n",
    "\n",
    "#Define the objective function\n",
    "z = quicksum(production_cost * Normal_Production[i] + over_time_cost * OverTime_Production[i] + inventory_cost * Invertory_Amount[i] for i in months)\n",
    "\n",
    "# Specify the type of the model: minimization or maximization\n",
    "model.setObjective (z, GRB.MINIMIZE)\n",
    "\n",
    "# Update the model\n",
    "model.update()\n",
    "\n",
    "# Solve the model    \n",
    "model.optimize()     \n",
    "\n",
    "\n",
    "\n",
    "# Print out the optimal solutions: the decion variables values\n",
    "if model.status==GRB.OPTIMAL:\n",
    "    \n",
    "    print (\"-----------------------------------------\")\n",
    "    print (\"Optimal value: $\",model.objVal)\n",
    "    print (\"-----------------------------------------\")\n",
    "    Results = Texttable()\n",
    "    result_header = [\"Months\", \"Regular Production Amount (units)\", \"Overtime Production Amount (units)\", \"Amount Kept in Inventory (units)\"]\n",
    "    Results.add_row(result_header)\n",
    "    for i in months: \n",
    "        Results.add_row([i,Normal_Production[i].X, OverTime_Production[i].X, Invertory_Amount[i].X])\n",
    "    print(Results.draw())   \n",
    "        \n",
    "        \n",
    "        \n",
    "#         print (\"Decision for the Month\", i)\n",
    "#         print (\"Regular Production Amount in Month\", i, \"is --->\",  Normal_Production[i].X)\n",
    "#         print (\"Over Time Production Amount in Month\", i, \"is --->\",OverTime_Production[i].X)\n",
    "#         print (\"Inventory Kept in Month\", i, \"is --->\",Invertory_Amount[i].X)\n",
    "#         print (\"\\n\")\n"
   ]
  },
  {
   "cell_type": "markdown",
   "metadata": {},
   "source": [
    "Solution | Question - 3"
   ]
  },
  {
   "cell_type": "code",
   "execution_count": 140,
   "metadata": {},
   "outputs": [
    {
     "name": "stdout",
     "output_type": "stream",
     "text": [
      "-----------------------------------------\n",
      "Optimal value: $ 12705.0\n",
      "-----------------------------------------\n",
      "+--------------+-------------+----------------+\n",
      "| Origin       | Destination | Amount Shipped |\n",
      "+--------------+-------------+----------------+\n",
      "| Pennsylvania | Indiana     | 27000          |\n",
      "+--------------+-------------+----------------+\n",
      "| Pennsylvania | Georgia     | 9000           |\n",
      "+--------------+-------------+----------------+\n",
      "| Indiana      | Kentucky    | 12000          |\n",
      "+--------------+-------------+----------------+\n",
      "| Indiana      | Lousiana    | 15000          |\n",
      "+--------------+-------------+----------------+\n",
      "| Georgia      | Virginia    | 9000           |\n",
      "+--------------+-------------+----------------+\n",
      "\n",
      "\n",
      "\n",
      "This is the Entire Possible Product Distribution Network for the Studied Company\n"
     ]
    },
    {
     "data": {
      "image/png": "[encoded data removed]",
      "text/plain": [
       "<Figure size 432x288 with 1 Axes>"
      ]
     },
     "metadata": {},
     "output_type": "display_data"
    },
    {
     "name": "stdout",
     "output_type": "stream",
     "text": [
      "\n",
      "\n",
      "\n",
      "This is the Optimal Product Distribution Network for the Studied Company\n"
     ]
    },
    {
     "data": {
      "image/png": "[encoded data removed]",
      "text/plain": [
       "<Figure size 432x288 with 1 Axes>"
      ]
     },
     "metadata": {},
     "output_type": "display_data"
    }
   ],
   "source": [
    "#Importing Gurobi for solving the model \n",
    "from gurobipy import *\n",
    "from texttable import Texttable\n",
    "#Importing NetworkX and Matplotlib for depicting the network\n",
    "import networkx as nx\n",
    "import matplotlib.pyplot as plt\n",
    "\n",
    "#Creating the list of nodes i \n",
    "nodes = ['Ohio', 'Pennsylvania', 'New York', 'Indiana', 'Georgia', 'Virginia', 'Kentucky', 'Lousiana']\n",
    "\n",
    "#This multi-dict is used defining the arcs and cost related to that arcs \n",
    "arcs, cost = multidict({('Ohio', 'Indiana') : 0.41/2, \n",
    "                        ('Ohio','Georgia') : 0.57/2,\n",
    "                        ('Pennsylvania','Indiana' ) : 0.37/2,\n",
    "                        ('Pennsylvania','Georgia' ) : 0.48/2,\n",
    "                        ('New York','Indiana' ) : 0.51/2,\n",
    "                        ('New York', 'Georgia') : 0.60/2,\n",
    "                        ('Indiana', 'Virginia'): 0.22,\n",
    "                        ('Indiana', 'Kentucky'): 0.10,\n",
    "                        ('Indiana', 'Lousiana'): 0.20, \n",
    "                        ('Georgia', 'Virginia') : 0.15, \n",
    "                        ('Georgia', 'Kentucky') : 0.16,\n",
    "                        ('Georgia', 'Lousiana') : 0.18})\n",
    "\n",
    "#This variable shows the demand and supply of earch nodes, positive value  means that the node is supply node and neegative value means demand nodes\n",
    "\n",
    "in_flow =  {'Ohio' : 24000*2, \n",
    "            'Pennsylvania': 18000*2, \n",
    "            'New York': 32000*2, \n",
    "            'Indiana': 0,\n",
    "            'Georgia': 0, \n",
    "            'Virginia': -9000, \n",
    "            'Kentucky': -12000,\n",
    "            'Lousiana' : -15000 }\n",
    "\n",
    "\n",
    "\n",
    "# Create the model as an object\n",
    "model = Model (\"transportation\")\n",
    "\n",
    "# Mute the Gurobi\n",
    "model.setParam ('OutputFlag', False)\n",
    "\n",
    "\n",
    "# Create the decison variables for each link\n",
    "X = model.addVars(arcs, vtype=GRB.INTEGER, lb=0,ub=GRB.INFINITY, name=\"x\")\n",
    "\n",
    "\n",
    "#Capacity constraints for the \n",
    "model.addConstr( X['Ohio', 'Indiana'] + X['Pennsylvania','Indiana'] + X['New York','Indiana'] <= 48000*2)\n",
    "\n",
    "model.addConstr( X['Ohio', 'Georgia'] + X['Pennsylvania','Georgia'] + X['New York','Georgia'] <= 35000*2)\n",
    "\n",
    "#Flow balance constraints \n",
    "for i in nodes:\n",
    "    model.addConstr((quicksum(X[i,j] for i,j in arcs.select (i,'*')) - quicksum(X[j, i] for j, i in arcs.select ('*', i)) <= in_flow[i]));\n",
    "          \n",
    "\n",
    "#Define the objective function\n",
    "z = quicksum(X[i,j] * cost[i,j] for i,j in arcs)\n",
    "\n",
    "# Specify the type of the model: minimization or maximization\n",
    "model.setObjective (z, GRB.MINIMIZE)\n",
    "\n",
    "# Update the model\n",
    "model.update()\n",
    "\n",
    "# Solve the model    \n",
    "model.optimize()     \n",
    "        \n",
    "# Print out the optimal solutions: the decion variables values\n",
    "model.printAttr ('x') \n",
    "\n",
    "# Print out the outputs\n",
    "\n",
    "# Print out the outputs\n",
    "new_arcs = []\n",
    "Results = Texttable()\n",
    "result_header = [\"Origin\", \"Destination\", \"Amount Shipped\"]\n",
    "if model.status==GRB.OPTIMAL:\n",
    "    print (\"-----------------------------------------\")\n",
    "    print (\"Optimal value: $\",model.objVal)\n",
    "    print (\"-----------------------------------------\")\n",
    "    #print (\"--- Quantity (origin to destination)---\")\n",
    "\n",
    "    Results.add_row(result_header)\n",
    "    for i, j  in arcs: \n",
    "        if X[i,j].X > 0:\n",
    "            Results.add_row([i,j, X[i,j].X])\n",
    "            #print (\"From\",i, \"To \", j, X[i,j].X)\n",
    "    print(Results.draw())\n",
    "        \n",
    "    for i, j in arcs: \n",
    "        if X[i,j].X > 0: \n",
    "            new_arcs.append((i,j))\n",
    "                \n",
    "\n",
    "                \n",
    "print(\"\\n\\n\\nThis is the Entire Possible Product Distribution Network for the Studied Company\")           \n",
    "F = nx.DiGraph()\n",
    "\n",
    "F.add_edges_from(arcs)\n",
    "\n",
    "pos = nx.spring_layout(F)   \n",
    "\n",
    "nx.draw_circular(F, edge_color='black',node_shape = 'o', width=2,node_size=500,node_color='burlywood', alpha=0.8,\\\n",
    "labels={node:node for node in F.nodes()})\n",
    "\n",
    "plt.show()\n",
    "                    \n",
    "            \n",
    "#print(new_arcs)\n",
    "print(\"\\n\\n\\nThis is the Optimal Product Distribution Network for the Studied Company\")           \n",
    "G = nx.DiGraph()\n",
    "\n",
    "G.add_edges_from(new_arcs)\n",
    "\n",
    "pos = nx.spring_layout(G)   \n",
    "\n",
    "nx.draw_circular(G, edge_color='b',node_shape = 'o', width=2,node_size=500,node_color='powderblue', alpha=0.8,\\\n",
    "labels={node:node for node in G.nodes()})\n",
    "\n",
    "plt.show()\n",
    "\n",
    "\n",
    "            \n"
   ]
  },
  {
   "cell_type": "markdown",
   "metadata": {},
   "source": [
    "Solution | Question - 4 (a)"
   ]
  },
  {
   "cell_type": "code",
   "execution_count": 142,
   "metadata": {},
   "outputs": [
    {
     "name": "stdout",
     "output_type": "stream",
     "text": [
      "  Gender  Age Music preference  Height\n",
      "0      f   65              Rap     158\n",
      "1      f   24      Alternative     152\n",
      "2      f   56    Rock and Roll     153\n",
      "3      f   70          Country     160\n",
      "4      f   26        Classical     156\n",
      "                            OLS Regression Results                            \n",
      "==============================================================================\n",
      "Dep. Variable:                    Age   R-squared:                       0.045\n",
      "Model:                            OLS   Adj. R-squared:                  0.035\n",
      "Method:                 Least Squares   F-statistic:                     4.536\n",
      "Date:                Thu, 13 May 2021   Prob (F-statistic):             0.0357\n",
      "Time:                        21:53:33   Log-Likelihood:                -410.49\n",
      "No. Observations:                  99   AIC:                             825.0\n",
      "Df Residuals:                      97   BIC:                             830.2\n",
      "Df Model:                           1                                         \n",
      "Covariance Type:            nonrobust                                         \n",
      "==============================================================================\n",
      "                 coef    std err          t      P>|t|      [0.025      0.975]\n",
      "------------------------------------------------------------------------------\n",
      "const        131.8490     42.764      3.083      0.003      46.974     216.724\n",
      "Height        -0.5642      0.265     -2.130      0.036      -1.090      -0.038\n",
      "==============================================================================\n",
      "Omnibus:                       22.464   Durbin-Watson:                   1.928\n",
      "Prob(Omnibus):                  0.000   Jarque-Bera (JB):                5.625\n",
      "Skew:                           0.186   Prob(JB):                       0.0600\n",
      "Kurtosis:                       1.893   Cond. No.                     4.45e+03\n",
      "==============================================================================\n",
      "\n",
      "Notes:\n",
      "[1] Standard Errors assume that the covariance matrix of the errors is correctly specified.\n",
      "[2] The condition number is large, 4.45e+03. This might indicate that there are\n",
      "strong multicollinearity or other numerical problems.\n"
     ]
    },
    {
     "data": {
      "image/png": "[encoded data removed]",
      "text/plain": [
       "<Figure size 432x288 with 1 Axes>"
      ]
     },
     "metadata": {},
     "output_type": "display_data"
    }
   ],
   "source": [
    "#Importing all necessary libraries for running code\n",
    "import pandas as pd\n",
    "import numpy as np\n",
    "import matplotlib.pyplot as plt \n",
    "import seaborn as sns\n",
    "import statsmodels.api as sm\n",
    "\n",
    "#Imported that as dataframe using pandas \n",
    "data = pd.read_excel(\"FinalExamData.xls\", names = ['Gender', 'Age', 'Music preference', 'Height'])\n",
    "df = pd.DataFrame(data)\n",
    "\n",
    "#Setting some design\n",
    "sns.set_theme()\n",
    "sns.set_style(\"ticks\")\n",
    "\n",
    "#Taking x and y axis \n",
    "y = pd.Series(df[\"Age\"], name=\"Age\")\n",
    "\n",
    "x = pd.Series(df[\"Height\"], name=\"Height\")\n",
    "\n",
    "#Create the histogram \n",
    "ax = sns.regplot(x=x, y=y, marker=\"+\",color=\"g\", n_boot=500, y_jitter=.03)\n",
    "\n",
    "\n",
    "#Add an intercept to the regression model\n",
    "x=sm.add_constant(df['Height']) \n",
    "#OLS: Ordinary least square\n",
    "model = sm.OLS(df['Age'],x).fit() \n",
    "#make the predictions by the model\n",
    "predictions = model.predict(x)  \n",
    "#Print summary \n",
    "print (model.summary())\n"
   ]
  },
  {
   "cell_type": "markdown",
   "metadata": {},
   "source": [
    "Solution | Question - 4 (b)"
   ]
  },
  {
   "cell_type": "code",
   "execution_count": 148,
   "metadata": {},
   "outputs": [
    {
     "data": {
      "text/plain": [
       "<seaborn.axisgrid.FacetGrid at 0x157822491c0>"
      ]
     },
     "execution_count": 148,
     "metadata": {},
     "output_type": "execute_result"
    },
    {
     "data": {
      "image/png": "[encoded data removed]",
      "text/plain": [
       "<Figure size 360x360 with 1 Axes>"
      ]
     },
     "metadata": {},
     "output_type": "display_data"
    },
    {
     "data": {
      "image/png": "[encoded data removed]",
      "text/plain": [
       "<Figure size 360x360 with 1 Axes>"
      ]
     },
     "metadata": {},
     "output_type": "display_data"
    }
   ],
   "source": [
    "#Importing all necessary libraries for running code\n",
    "import pandas as pd\n",
    "import numpy as np\n",
    "import matplotlib.pyplot as plt \n",
    "import seaborn as sns\n",
    "\n",
    "#Imported excel file as dataframe using pandas \n",
    "data = pd.read_excel(\"FinalExamData.xls\", names = ['Gender', 'Age', 'Music preference', 'Height'])\n",
    "df = pd.DataFrame(data)\n",
    "\n",
    "#Setting background \n",
    "sns.set_theme()\n",
    "sns.set_style(\"ticks\")\n",
    "\n",
    "#Creating histrogram for age \n",
    "sns.displot(df, x=\"Age\", bins=12, color = 'b').set(title = \"\\n\\n\\nHistrogram of Age\")\n",
    "\n",
    "#Creating histogram for height \n",
    "sns.displot(df, x=\"Height\", bins=12, color = 'g').set(title = \"\\n\\n\\nHistrogram of Height\")\n"
   ]
  },
  {
   "cell_type": "markdown",
   "metadata": {},
   "source": [
    "Solution | Question - 4 (c)"
   ]
  },
  {
   "cell_type": "code",
   "execution_count": 1,
   "metadata": {},
   "outputs": [
    {
     "name": "stdout",
     "output_type": "stream",
     "text": [
      "  Gender  Age Music preference  Height\n",
      "0      f   65              Rap     158\n",
      "1      f   24      Alternative     152\n",
      "2      f   56    Rock and Roll     153\n",
      "3      f   70          Country     160\n",
      "4      f   26        Classical     156\n"
     ]
    },
    {
     "ename": "NameError",
     "evalue": "name 'Texttable' is not defined",
     "output_type": "error",
     "traceback": [
      "\u001b[1;31m---------------------------------------------------------------------------\u001b[0m",
      "\u001b[1;31mNameError\u001b[0m                                 Traceback (most recent call last)",
      "\u001b[1;32m<ipython-input-1-22fd39217c56>\u001b[0m in \u001b[0;36m<module>\u001b[1;34m\u001b[0m\n\u001b[0;32m     22\u001b[0m \u001b[1;33m\u001b[0m\u001b[0m\n\u001b[0;32m     23\u001b[0m \u001b[1;31m#Showing the percentage data in table\u001b[0m\u001b[1;33m\u001b[0m\u001b[1;33m\u001b[0m\u001b[1;33m\u001b[0m\u001b[0m\n\u001b[1;32m---> 24\u001b[1;33m \u001b[0mResults\u001b[0m \u001b[1;33m=\u001b[0m \u001b[0mTexttable\u001b[0m\u001b[1;33m(\u001b[0m\u001b[1;33m)\u001b[0m\u001b[1;33m\u001b[0m\u001b[1;33m\u001b[0m\u001b[0m\n\u001b[0m\u001b[0;32m     25\u001b[0m \u001b[0mresult_header\u001b[0m \u001b[1;33m=\u001b[0m \u001b[1;33m[\u001b[0m\u001b[1;34m\"Music Preference\"\u001b[0m\u001b[1;33m,\u001b[0m \u001b[1;34m\"Percentage\"\u001b[0m\u001b[1;33m]\u001b[0m\u001b[1;33m\u001b[0m\u001b[1;33m\u001b[0m\u001b[0m\n\u001b[0;32m     26\u001b[0m \u001b[0mResults\u001b[0m\u001b[1;33m.\u001b[0m\u001b[0madd_row\u001b[0m\u001b[1;33m(\u001b[0m\u001b[0mresult_header\u001b[0m\u001b[1;33m)\u001b[0m\u001b[1;33m\u001b[0m\u001b[1;33m\u001b[0m\u001b[0m\n",
      "\u001b[1;31mNameError\u001b[0m: name 'Texttable' is not defined"
     ]
    }
   ],
   "source": [
    "#Importing all necessary libraries for running code\n",
    "import pandas as pd\n",
    "import numpy as np\n",
    "import matplotlib.pyplot as plt \n",
    "import seaborn as sns\n",
    "\n",
    "#Imported excel as dataframe using pandas \n",
    "data = pd.read_excel(\"FinalExamData.xls\", names = ['Gender', 'Age', 'Music preference', 'Height'])\n",
    "df = pd.DataFrame(data)\n",
    "print(df.head())\n",
    "\n",
    "Type = dict(df[\"Music preference\"].value_counts())\n",
    "\n",
    "# Data to plot\n",
    "labels = []\n",
    "sizes = []\n",
    "\n",
    "\n",
    "for x, y in Type.items():\n",
    "    labels.append(x)\n",
    "    sizes.append(y)\n",
    "    \n",
    "#Showing the percentage data in table \n",
    "Results = Texttable()\n",
    "result_header = [\"Music Preference\", \"Percentage\"]\n",
    "Results.add_row(result_header)\n",
    "for i in range(len(sizes)): \n",
    "    p = sizes[i]*100/total\n",
    "    Results.add_row([labels[i], (str(p) + \" %\")])\n",
    "print(Results.draw())\n",
    "print(\"\\n\\n\\n\\n\")\n",
    "\n",
    "#Creating the pie chart \n",
    "plt.pie(sizes, labels=labels, autopct='%2.2f%%', shadow=True, startangle=-50)\n",
    "plt.legend(labels,title=\"Music Preference\",loc=\"center left\", bbox_to_anchor=(1, 0, 0.5, 1))\n",
    "plt.axis('equal')\n",
    "plt.title(\"Parcentage of Each Music Preference\")\n",
    "plt.show()\n",
    "plt.savefig(\"exam.png\", dpi= 150) \n",
    "print(\"\\n\\n\\n\\n\")"
   ]
  },
  {
   "cell_type": "code",
   "execution_count": null,
   "metadata": {},
   "outputs": [],
   "source": []
  },
  {
   "cell_type": "code",
   "execution_count": null,
   "metadata": {},
   "outputs": [],
   "source": []
  }
 ],
 "metadata": {
  "kernelspec": {
   "display_name": "Python 3",
   "language": "python",
   "name": "python3"
  },
  "language_info": {
   "codemirror_mode": {
    "name": "ipython",
    "version": 3
   },
   "file_extension": ".py",
   "mimetype": "text/x-python",
   "name": "python",
   "nbconvert_exporter": "python",
   "pygments_lexer": "ipython3",
   "version": "3.8.2"
  }
 },
 "nbformat": 4,
 "nbformat_minor": 4
}
